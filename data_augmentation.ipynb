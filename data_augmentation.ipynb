{
  "nbformat": 4,
  "nbformat_minor": 0,
  "metadata": {
    "kernelspec": {
      "display_name": "Python 3",
      "language": "python",
      "name": "python3"
    },
    "language_info": {
      "codemirror_mode": {
        "name": "ipython",
        "version": 3
      },
      "file_extension": ".py",
      "mimetype": "text/x-python",
      "name": "python",
      "nbconvert_exporter": "python",
      "pygments_lexer": "ipython3",
      "version": "3.7.2"
    },
    "colab": {
      "name": "data_augmentation.ipynb",
      "provenance": []
    }
  },
  "cells": [
    {
      "cell_type": "code",
      "metadata": {
        "_cell_guid": "b1076dfc-b9ad-4769-8c92-a6c4dae69d19",
        "_uuid": "8f2839f25d086af736a60e9eeb907d3b93b6e0e5",
        "id": "5rlBAg7USor6",
        "colab_type": "code",
        "colab": {}
      },
      "source": [
        "import numpy as np \n",
        "import pandas as pd \n",
        "import os\n",
        "\n",
        "##################### New Packages\n",
        "import imgaug as ia\n",
        "import imgaug.augmenters as iaa\n",
        "from imgaug.augmentables import Keypoint, KeypointsOnImage\n",
        "from skimage import img_as_ubyte\n",
        "#####################\n",
        "\n",
        "from sklearn.model_selection import train_test_split \n",
        "from matplotlib import pyplot as plt\n",
        "%matplotlib inline \n",
        "\n",
        "for dirname, _, filenames in os.walk('drive/My Drive/facial_keypoints_data/'):\n",
        "    for filename in filenames:\n",
        "        print(os.path.join(dirname, filename))"
      ],
      "execution_count": 0,
      "outputs": []
    },
    {
      "cell_type": "code",
      "metadata": {
        "id": "GioPJWsVU2Jx",
        "colab_type": "code",
        "outputId": "215984a2-3599-4450-a45e-09820e20cdeb",
        "colab": {
          "base_uri": "https://localhost:8080/",
          "height": 122
        }
      },
      "source": [
        "from google.colab import drive\n",
        "drive.mount('/content/drive')"
      ],
      "execution_count": 4,
      "outputs": [
        {
          "output_type": "stream",
          "text": [
            "Go to this URL in a browser: https://accounts.google.com/o/oauth2/auth?client_id=947318989803-6bn6qk8qdgf4n4g3pfee6491hc0brc4i.apps.googleusercontent.com&redirect_uri=urn%3aietf%3awg%3aoauth%3a2.0%3aoob&response_type=code&scope=email%20https%3a%2f%2fwww.googleapis.com%2fauth%2fdocs.test%20https%3a%2f%2fwww.googleapis.com%2fauth%2fdrive%20https%3a%2f%2fwww.googleapis.com%2fauth%2fdrive.photos.readonly%20https%3a%2f%2fwww.googleapis.com%2fauth%2fpeopleapi.readonly\n",
            "\n",
            "Enter your authorization code:\n",
            "··········\n",
            "Mounted at /content/drive\n"
          ],
          "name": "stdout"
        }
      ]
    },
    {
      "cell_type": "code",
      "metadata": {
        "id": "puPolX-UHXZ7",
        "colab_type": "code",
        "colab": {}
      },
      "source": [
        "training = pd.read_csv('drive/My Drive/facial_keypoints_data/training/training.csv')"
      ],
      "execution_count": 0,
      "outputs": []
    },
    {
      "cell_type": "code",
      "metadata": {
        "id": "UUSM9ZC1FGUE",
        "colab_type": "code",
        "colab": {}
      },
      "source": [
        "training = training.dropna()\n",
        "# Sample 500 observations from the whole training set\n",
        "df_imgs = training.sample(500).copy()\n",
        "df_imgs['Image'] = df_imgs['Image'].apply(lambda x: np.fromstring(x, dtype=int, sep=' ').reshape((96,96)))"
      ],
      "execution_count": 0,
      "outputs": []
    },
    {
      "cell_type": "code",
      "metadata": {
        "id": "UmQHSrskHOor",
        "colab_type": "code",
        "colab": {}
      },
      "source": [
        "# Create an array object of images\n",
        "X = df_imgs['Image'].values\n",
        "\n",
        "# Copied it for testing - work can be done on X instead\n",
        "XX = X.copy()\n",
        "\n",
        "y = df_imgs[df_imgs.columns[:-1]].values\n",
        "y = y.astype(np.float32)"
      ],
      "execution_count": 0,
      "outputs": []
    },
    {
      "cell_type": "code",
      "metadata": {
        "id": "0WBa3f_TjvhM",
        "colab_type": "code",
        "colab": {
          "base_uri": "https://localhost:8080/",
          "height": 51
        },
        "outputId": "622c616a-f604-4a55-fb26-f67cb5a921c8"
      },
      "source": [
        "# 3-for loops to change every possible object type to uint8 (first array, second array, and the values of [0-255] themselves)\n",
        "for i, t in enumerate(X):\n",
        "  for j, tt in enumerate(X[i]):\n",
        "    for k, ttt in enumerate(X[i][j]):\n",
        "      XX[i][j][k] = X[i][j][k].astype(np.uint8)\n",
        "    XX[i][j] = img_as_ubyte(X[i][j])\n",
        "  XX[i] = img_as_ubyte(X[i])\n",
        "# Warnings do not matter - don't worry"
      ],
      "execution_count": 9,
      "outputs": [
        {
          "output_type": "stream",
          "text": [
            "/usr/local/lib/python3.6/dist-packages/skimage/util/dtype.py:503: UserWarning: Downcasting int64 to uint8 without scaling because max value 59 fits in uint8\n",
            "  return convert(image, np.uint8, force_copy)\n"
          ],
          "name": "stderr"
        }
      ]
    },
    {
      "cell_type": "code",
      "metadata": {
        "id": "A0lk_N4AwMCs",
        "colab_type": "code",
        "colab": {}
      },
      "source": [
        "'''\n",
        "For loop which takes images and matching keypoints' coordinates, \n",
        "makes KeyPoint object out of all of them then it applies same \"seq\" augmentation\n",
        "on both the image and keypoints. Finally it unpacks keypoints to cooridnates and\n",
        "appends augmented image with keypoints to corresponding lists ***_aug.\n",
        "'''\n",
        "ia.seed(1)\n",
        "\n",
        "imgs_aug = []\n",
        "kpss_aug = []\n",
        "\n",
        "for j, (image, keypt) in enumerate(zip(XX,y)):\n",
        "  img = XX[j]\n",
        "  kps = KeypointsOnImage([\n",
        "    Keypoint(keypt[0], keypt[1]),\n",
        "    Keypoint(keypt[2], keypt[3]),\n",
        "    Keypoint(keypt[4], keypt[5]),\n",
        "    Keypoint(keypt[6], keypt[7]),\n",
        "    Keypoint(keypt[8], keypt[9]),\n",
        "    Keypoint(keypt[10], keypt[11]),\n",
        "    Keypoint(keypt[12], keypt[13]),\n",
        "    Keypoint(keypt[14], keypt[15]),\n",
        "    Keypoint(keypt[16], keypt[17]),\n",
        "    Keypoint(keypt[18], keypt[19]),\n",
        "    Keypoint(keypt[20], keypt[21]),\n",
        "    Keypoint(keypt[22], keypt[23]),\n",
        "    Keypoint(keypt[24], keypt[25]),\n",
        "    Keypoint(keypt[26], keypt[27]),\n",
        "    Keypoint(keypt[28], keypt[29])],\n",
        "    shape = (96,96))\n",
        "\n",
        "\n",
        "  seq = iaa.Sequential([\n",
        "      iaa.Fliplr(1.0)\n",
        "  ])\n",
        "  img_aug, kps_aug = seq(image=img, keypoints=kps)\n",
        "  act_kps = []\n",
        "  act_img = []\n",
        "  for i in range(len(kps.keypoints)):\n",
        "    act_kps.append(kps_aug.keypoints[i].x)\n",
        "    act_kps.append(kps_aug.keypoints[i].y)\n",
        "  imgs_aug.append(img_aug)\n",
        "  kpss_aug.append(act_kps)\n"
      ],
      "execution_count": 0,
      "outputs": []
    },
    {
      "cell_type": "code",
      "metadata": {
        "id": "79NntGyx2vdq",
        "colab_type": "code",
        "colab": {}
      },
      "source": [
        "# Create arrays from lists so the shape is same as X and y\n",
        "\n",
        "img_arr = np.array(imgs_aug)\n",
        "key_arr = np.array(kpss_aug)"
      ],
      "execution_count": 0,
      "outputs": []
    },
    {
      "cell_type": "code",
      "metadata": {
        "id": "YJ5lLjRnxCTx",
        "colab_type": "code",
        "colab": {}
      },
      "source": [
        ""
      ],
      "execution_count": 0,
      "outputs": []
    }
  ]
}