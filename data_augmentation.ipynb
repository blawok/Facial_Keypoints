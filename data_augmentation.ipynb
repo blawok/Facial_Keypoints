{
  "nbformat": 4,
  "nbformat_minor": 0,
  "metadata": {
    "kernelspec": {
      "display_name": "Python 3",
      "language": "python",
      "name": "python3"
    },
    "language_info": {
      "codemirror_mode": {
        "name": "ipython",
        "version": 3
      },
      "file_extension": ".py",
      "mimetype": "text/x-python",
      "name": "python",
      "nbconvert_exporter": "python",
      "pygments_lexer": "ipython3",
      "version": "3.7.2"
    },
    "colab": {
      "name": "data_augmentation.ipynb",
      "provenance": []
    }
  },
  "cells": [
    {
      "cell_type": "code",
      "metadata": {
        "_cell_guid": "b1076dfc-b9ad-4769-8c92-a6c4dae69d19",
        "_uuid": "8f2839f25d086af736a60e9eeb907d3b93b6e0e5",
        "id": "5rlBAg7USor6",
        "colab_type": "code",
        "outputId": "88374fee-e5ad-4409-da4d-dcf1f28ade2c",
        "colab": {
          "base_uri": "https://localhost:8080/",
          "height": 85
        }
      },
      "source": [
        "import numpy as np \n",
        "import pandas as pd \n",
        "import os\n",
        "\n",
        "from sklearn.model_selection import train_test_split \n",
        "from matplotlib import pyplot as plt\n",
        "%matplotlib inline \n",
        "\n",
        "for dirname, _, filenames in os.walk('drive/My Drive/facial_keypoints_data/'):\n",
        "    for filename in filenames:\n",
        "        print(os.path.join(dirname, filename))"
      ],
      "execution_count": 2,
      "outputs": [
        {
          "output_type": "stream",
          "text": [
            "drive/My Drive/facial_keypoints_data/IdLookupTable.csv\n",
            "drive/My Drive/facial_keypoints_data/SampleSubmission.csv\n",
            "drive/My Drive/facial_keypoints_data/test/test.csv\n",
            "drive/My Drive/facial_keypoints_data/training/training.csv\n"
          ],
          "name": "stdout"
        }
      ]
    },
    {
      "cell_type": "code",
      "metadata": {
        "id": "GioPJWsVU2Jx",
        "colab_type": "code",
        "outputId": "d0ce306a-6d29-489e-d001-535da823bd86",
        "colab": {
          "base_uri": "https://localhost:8080/",
          "height": 122
        }
      },
      "source": [
        "from google.colab import drive\n",
        "drive.mount('/content/drive')"
      ],
      "execution_count": 1,
      "outputs": [
        {
          "output_type": "stream",
          "text": [
            "Go to this URL in a browser: https://accounts.google.com/o/oauth2/auth?client_id=947318989803-6bn6qk8qdgf4n4g3pfee6491hc0brc4i.apps.googleusercontent.com&redirect_uri=urn%3aietf%3awg%3aoauth%3a2.0%3aoob&response_type=code&scope=email%20https%3a%2f%2fwww.googleapis.com%2fauth%2fdocs.test%20https%3a%2f%2fwww.googleapis.com%2fauth%2fdrive%20https%3a%2f%2fwww.googleapis.com%2fauth%2fdrive.photos.readonly%20https%3a%2f%2fwww.googleapis.com%2fauth%2fpeopleapi.readonly\n",
            "\n",
            "Enter your authorization code:\n",
            "··········\n",
            "Mounted at /content/drive\n"
          ],
          "name": "stdout"
        }
      ]
    },
    {
      "cell_type": "code",
      "metadata": {
        "id": "puPolX-UHXZ7",
        "colab_type": "code",
        "outputId": "cbb3012e-afec-4e01-f4fc-5e071211e1bf",
        "colab": {
          "base_uri": "https://localhost:8080/",
          "height": 595
        }
      },
      "source": [
        "from pandas.io.parsers import read_csv\n",
        "from sklearn.utils import shuffle\n",
        "import numpy as np\n",
        "import os\n",
        "\n",
        "\n",
        "FTRAIN = 'drive/My Drive/facial_keypoints_data//training/training.csv'\n",
        "FTEST = 'drive/My Drive/facial_keypoints_data//test/test.csv'\n",
        "\n",
        "\n",
        "def load(test=False, cols=None):\n",
        "    \"\"\"Loads data from FTEST if *test* is True, otherwise from FTRAIN.\n",
        "    Pass a list of *cols* if you're only interested in a subset of the\n",
        "    target columns.\n",
        "    \"\"\"\n",
        "    fname = FTEST if test else FTRAIN\n",
        "    df = read_csv(os.path.expanduser(fname))  # load pandas dataframe\n",
        "\n",
        "    # The Image column has pixel values separated by space; convert\n",
        "    # the values to numpy arrays:\n",
        "    df['Image'] = df['Image'].apply(lambda im: np.fromstring(im, sep=' '))\n",
        "\n",
        "    if cols:  # get a subset of columns\n",
        "        df = df[list(cols) + ['Image']]\n",
        "\n",
        "    print(df.count())  # prints the number of values for each column\n",
        "    df = df.dropna()  # drop all rows that have missing values in them\n",
        "\n",
        "    X = np.vstack(df['Image'].values) / 255.  # scale pixel values to [0, 1]\n",
        "    X = X.astype(np.float32)\n",
        "\n",
        "    if not test:  # only FTRAIN has any target columns\n",
        "        y = df[df.columns[:-1]].values\n",
        "        y = (y - 48) / 48  # scale target coordinates to [-1, 1]\n",
        "        X, y = shuffle(X, y, random_state=42)  # shuffle train data\n",
        "        y = y.astype(np.float32)\n",
        "    else:\n",
        "        y = None\n",
        "\n",
        "    return X, y\n",
        "\n",
        "\n",
        "X, y = load()\n",
        "print(\"X.shape == {}; X.min == {:.3f}; X.max == {:.3f}\".format(\n",
        "    X.shape, X.min(), X.max()))\n",
        "print(\"y.shape == {}; y.min == {:.3f}; y.max == {:.3f}\".format(\n",
        "    y.shape, y.min(), y.max()))"
      ],
      "execution_count": 3,
      "outputs": [
        {
          "output_type": "stream",
          "text": [
            "left_eye_center_x            7039\n",
            "left_eye_center_y            7039\n",
            "right_eye_center_x           7036\n",
            "right_eye_center_y           7036\n",
            "left_eye_inner_corner_x      2271\n",
            "left_eye_inner_corner_y      2271\n",
            "left_eye_outer_corner_x      2267\n",
            "left_eye_outer_corner_y      2267\n",
            "right_eye_inner_corner_x     2268\n",
            "right_eye_inner_corner_y     2268\n",
            "right_eye_outer_corner_x     2268\n",
            "right_eye_outer_corner_y     2268\n",
            "left_eyebrow_inner_end_x     2270\n",
            "left_eyebrow_inner_end_y     2270\n",
            "left_eyebrow_outer_end_x     2225\n",
            "left_eyebrow_outer_end_y     2225\n",
            "right_eyebrow_inner_end_x    2270\n",
            "right_eyebrow_inner_end_y    2270\n",
            "right_eyebrow_outer_end_x    2236\n",
            "right_eyebrow_outer_end_y    2236\n",
            "nose_tip_x                   7049\n",
            "nose_tip_y                   7049\n",
            "mouth_left_corner_x          2269\n",
            "mouth_left_corner_y          2269\n",
            "mouth_right_corner_x         2270\n",
            "mouth_right_corner_y         2270\n",
            "mouth_center_top_lip_x       2275\n",
            "mouth_center_top_lip_y       2275\n",
            "mouth_center_bottom_lip_x    7016\n",
            "mouth_center_bottom_lip_y    7016\n",
            "Image                        7049\n",
            "dtype: int64\n",
            "X.shape == (2140, 9216); X.min == 0.000; X.max == 1.000\n",
            "y.shape == (2140, 30); y.min == -0.920; y.max == 0.996\n"
          ],
          "name": "stdout"
        }
      ]
    },
    {
      "cell_type": "code",
      "metadata": {
        "id": "7L8jWDoxv38c",
        "colab_type": "code",
        "colab": {}
      },
      "source": [
        "def load2d(test=False,cols=None):\n",
        "\n",
        "    re = load(test, cols)\n",
        "    \n",
        "    X = re[0].reshape(-1,96,96,1)\n",
        "    y = re[1]\n",
        "\n",
        "    return X, y"
      ],
      "execution_count": 0,
      "outputs": []
    },
    {
      "cell_type": "code",
      "metadata": {
        "id": "6fXM3_FXvxcS",
        "colab_type": "code",
        "colab": {}
      },
      "source": [
        "def plot_sample(x, y, axis):\n",
        "    img = x.reshape(96, 96)\n",
        "    axis.imshow(img, cmap='gray')\n",
        "    axis.scatter(y[0::2] * 48 + 48, y[1::2] * 48 + 48, marker='x', s=10)"
      ],
      "execution_count": 0,
      "outputs": []
    },
    {
      "cell_type": "code",
      "metadata": {
        "id": "mQjEtpO_v7dM",
        "colab_type": "code",
        "colab": {}
      },
      "source": [
        "X,y = load2d()"
      ],
      "execution_count": 0,
      "outputs": []
    },
    {
      "cell_type": "code",
      "metadata": {
        "id": "LYxeNzUZHmMc",
        "colab_type": "code",
        "colab": {}
      },
      "source": [
        "\n",
        "fig = plt.figure(figsize=(10, 7))\n",
        "fig.subplots_adjust(\n",
        "    left=0, right=1, bottom=0, top=1, hspace=0.05, wspace=0.05)\n",
        "\n",
        "for i in range(16):\n",
        "    axis = fig.add_subplot(4, 4, i+1, xticks=[], yticks=[])\n",
        "    plot_sample(X_test[i], y_test[i], axis)\n",
        "\n",
        "plt.show()"
      ],
      "execution_count": 0,
      "outputs": []
    },
    {
      "cell_type": "code",
      "metadata": {
        "id": "A0lk_N4AwMCs",
        "colab_type": "code",
        "colab": {}
      },
      "source": [
        "import imgaug as ia\n",
        "import imgaug.augmenters as iaa\n",
        "from imgaug.augmentables import Keypoint, KeypointsOnImage\n",
        "\n",
        "\n",
        "ia.seed(1)\n",
        "\n",
        "image = ia.quokka(size=(256, 256))\n",
        "kps = KeypointsOnImage([\n",
        "    Keypoint(x=65, y=100),\n",
        "    Keypoint(x=75, y=200),\n",
        "    Keypoint(x=100, y=100),\n",
        "    Keypoint(x=200, y=80)\n",
        "], shape=image.shape)\n",
        "\n",
        "seq = iaa.Sequential([\n",
        "    iaa.Multiply((1.2, 1.5)), # change brightness, doesn't affect keypoints\n",
        "    iaa.Affine(\n",
        "        rotate=10,\n",
        "        scale=(0.5, 0.7)\n",
        "    ) # rotate by exactly 10deg and scale to 50-70%, affects keypoints\n",
        "])\n",
        "\n",
        "# Augment keypoints and images.\n",
        "image_aug, kps_aug = seq(image=image, keypoints=kps)\n",
        "\n",
        "# print coordinates before/after augmentation (see below)\n",
        "# use after.x_int and after.y_int to get rounded integer coordinates\n",
        "for i in range(len(kps.keypoints)):\n",
        "    before = kps.keypoints[i]\n",
        "    after = kps_aug.keypoints[i]\n",
        "    print(\"Keypoint %d: (%.8f, %.8f) -> (%.8f, %.8f)\" % (\n",
        "        i, before.x, before.y, after.x, after.y)\n",
        "    )\n",
        "\n",
        "# image with keypoints before/after augmentation (shown below)\n",
        "image_before = kps.draw_on_image(image, size=7)\n",
        "image_after = kps_aug.draw_on_image(image_aug, size=7)"
      ],
      "execution_count": 0,
      "outputs": []
    }
  ]
}